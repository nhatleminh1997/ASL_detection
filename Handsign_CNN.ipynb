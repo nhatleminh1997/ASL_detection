{
  "nbformat": 4,
  "nbformat_minor": 0,
  "metadata": {
    "colab": {
      "provenance": []
    },
    "kernelspec": {
      "name": "python3",
      "display_name": "Python 3"
    },
    "language_info": {
      "name": "python"
    }
  },
  "cells": [
    {
      "cell_type": "code",
      "execution_count": null,
      "metadata": {
        "id": "JhqDcLkKgO2W",
        "colab": {
          "base_uri": "https://localhost:8080/"
        },
        "outputId": "4c145793-e37f-485b-b90b-5cc1ecd04bc5"
      },
      "outputs": [
        {
          "output_type": "stream",
          "name": "stdout",
          "text": [
            "Drive already mounted at /content/gdrive; to attempt to forcibly remount, call drive.mount(\"/content/gdrive\", force_remount=True).\n",
            "Found 24936 images belonging to 24 classes.\n",
            "Found 2759 images belonging to 24 classes.\n"
          ]
        }
      ],
      "source": [
        "#Load data\n",
        "from google.colab import drive\n",
        "drive.mount('/content/gdrive')\n",
        "filepath_train = 'gdrive/MyDrive/handsignimages/Train'\n",
        "filepath_test = 'gdrive/My Drive/handsignimages/Test'\n",
        "\n",
        "#Preprocess data by generating tensors representing each image and rescales pixel values to fractions. Split training data into 90/10 Train/Val sets.\n",
        "from keras.preprocessing.image import ImageDataGenerator\n",
        "\n",
        "Train_generator = ImageDataGenerator(rescale = 1/255, validation_split = 0.1)\n",
        "\n",
        "#Apply preprocessing to Train and Test image sets. The function loads all images from folders by letter and categorizes them.\n",
        "#All images are 28x28. Load in batches consistent with training process.\n",
        "Train = Train_generator.flow_from_directory(filepath_train, target_size =(28, 28), class_mode ='categorical', batch_size = 1, subset='training')\n",
        "Validation = Train_generator.flow_from_directory(filepath_train, target_size =(28, 28), class_mode ='categorical', batch_size = 1, subset='validation')\n",
        "\n",
        "#Set class weights for later so that mini-batches are balanced.\n",
        "from collections import Counter\n",
        "\n",
        "counter = Counter(Train.classes)                          \n",
        "max_val = float(max(counter.values()))       \n",
        "class_weights = {class_id : max_val/num_images for class_id, num_images in counter.items()}                     "
      ]
    },
    {
      "cell_type": "code",
      "source": [
        "import matplotlib.pyplot as plt\n",
        "\n",
        "for _ in range(1):\n",
        "    img, label = Train.next()\n",
        "    print(img,label)\n",
        "    plt.imshow(img[0])\n",
        "    plt.show()"
      ],
      "metadata": {
        "colab": {
          "base_uri": "https://localhost:8080/",
          "height": 1000
        },
        "id": "TWOwpQLjPnZW",
        "outputId": "71cd2a69-e387-489f-a535-beb579f13b08"
      },
      "execution_count": null,
      "outputs": [
        {
          "output_type": "stream",
          "name": "stdout",
          "text": [
            "[[[[0.07450981 0.07450981 0.07450981]\n",
            "   [0.20784315 0.20784315 0.20784315]\n",
            "   [0.28235295 0.28235295 0.28235295]\n",
            "   ...\n",
            "   [0.5529412  0.5529412  0.5529412 ]\n",
            "   [0.5529412  0.5529412  0.5529412 ]\n",
            "   [0.5529412  0.5529412  0.5529412 ]]\n",
            "\n",
            "  [[0.07843138 0.07843138 0.07843138]\n",
            "   [0.21176472 0.21176472 0.21176472]\n",
            "   [0.28235295 0.28235295 0.28235295]\n",
            "   ...\n",
            "   [0.56078434 0.56078434 0.56078434]\n",
            "   [0.56078434 0.56078434 0.56078434]\n",
            "   [0.56078434 0.56078434 0.56078434]]\n",
            "\n",
            "  [[0.08627451 0.08627451 0.08627451]\n",
            "   [0.21568629 0.21568629 0.21568629]\n",
            "   [0.28627452 0.28627452 0.28627452]\n",
            "   ...\n",
            "   [0.57254905 0.57254905 0.57254905]\n",
            "   [0.57254905 0.57254905 0.57254905]\n",
            "   [0.57254905 0.57254905 0.57254905]]\n",
            "\n",
            "  ...\n",
            "\n",
            "  [[0.37647063 0.37647063 0.37647063]\n",
            "   [0.37647063 0.37647063 0.37647063]\n",
            "   [0.37647063 0.37647063 0.37647063]\n",
            "   ...\n",
            "   [0.36078432 0.36078432 0.36078432]\n",
            "   [0.35686275 0.35686275 0.35686275]\n",
            "   [0.3529412  0.3529412  0.3529412 ]]\n",
            "\n",
            "  [[0.38823533 0.38823533 0.38823533]\n",
            "   [0.38823533 0.38823533 0.38823533]\n",
            "   [0.38431376 0.38431376 0.38431376]\n",
            "   ...\n",
            "   [0.36078432 0.36078432 0.36078432]\n",
            "   [0.35686275 0.35686275 0.35686275]\n",
            "   [0.3529412  0.3529412  0.3529412 ]]\n",
            "\n",
            "  [[0.3803922  0.3803922  0.3803922 ]\n",
            "   [0.3803922  0.3803922  0.3803922 ]\n",
            "   [0.3803922  0.3803922  0.3803922 ]\n",
            "   ...\n",
            "   [0.34901962 0.34901962 0.34901962]\n",
            "   [0.34509805 0.34509805 0.34509805]\n",
            "   [0.34117648 0.34117648 0.34117648]]]] [[0. 0. 0. 0. 0. 0. 0. 0. 0. 1. 0. 0. 0. 0. 0. 0. 0. 0. 0. 0. 0. 0. 0. 0.]]\n"
          ]
        },
        {
          "output_type": "display_data",
          "data": {
            "text/plain": [
              "<Figure size 432x288 with 1 Axes>"
            ],
            "image/png": "[encoded data removed]"
          },
          "metadata": {
            "needs_background": "light"
          }
        }
      ]
    },
    {
      "cell_type": "code",
      "source": [
        "#Create CNN structure\n",
        "import math\n",
        "from random import uniform\n",
        "from tensorflow.keras.layers import BatchNormalization\n",
        "\n",
        "dim_input = 28 #size of our images are 28x28\n",
        "dim_filter = 3 #common kernel size is 3x3\n",
        "dim_maxpool = 2 #common pooling size of 2x2\n",
        "dim_batch = 32 #default batch size, will keep batch_size large enough for ~800 steps per epoch\n",
        "num_epochs = 10 #reasonable number of epochs to train\n",
        "num_steps = math.ceil(24936/dim_batch) #~800 steps per epoch leads to good gradient movement\n",
        "\n",
        "import keras\n",
        "from keras.models import Sequential\n",
        "from keras.layers import Conv2D, MaxPooling2D\n",
        "from keras.layers import Dropout, Flatten, Dense\n",
        "\n",
        "#2 iterations of Convolution, Pooling works well\n",
        "#Additional testing shows adding Dropout and Batch Normalization improves model\n",
        "model = Sequential()\n",
        "\n",
        "#First, run images through convolution layer, with padding, with common shape (input, input, 16), then MaxPool\n",
        "#This will allow CNN to detect small differences between images \n",
        "model.add(Conv2D(16, (dim_filter,dim_filter), input_shape = (dim_input,dim_input,3), activation = 'relu', padding = 'same'))\n",
        "model.add(MaxPooling2D(pool_size = (dim_maxpool, dim_maxpool), strides = 1))\n",
        "\n",
        "#Next, run images through another convolution layer, without padding, with increased dimensionality (input, input, 32), then Normalize and MaxPool\n",
        "#This will allow CNN to detect more complex differences between images\n",
        "model.add(Conv2D(32, (dim_filter,dim_filter), input_shape = (dim_input,dim_input,3), activation = 'relu', padding = 'same'))\n",
        "model.add(MaxPooling2D(pool_size = (dim_maxpool, dim_maxpool), strides = 2))\n",
        "\n",
        "#We add one more layer with increased dimensionality, normalization, and maxpool without padding.\n",
        "#This will help as previous iterations with 2 conv2d layers topped out at 85% accuracy.\n",
        "model.add(Conv2D(64, (dim_filter,dim_filter), activation = 'relu', padding = 'valid'))\n",
        "model.add(BatchNormalization())\n",
        "model.add(MaxPooling2D(pool_size = (dim_maxpool, dim_maxpool), strides = 2))\n",
        "\n",
        "#Add a Dropout layer to avoid overfitting problem seen in previous iterations\n",
        "model.add(Dropout(uniform(0,1)))\n",
        "\n",
        "model.add(Flatten()) #reduces dimensionality of tensor to fully connected layer\n",
        "model.add(Dense(128, activation = 'relu')) #further reduces dimensionality of fully-connected layer\n",
        "model.add(Dense(24, activation = 'softmax')) #brings output of fully-connected layer to size 24, same as our letters to be predicted"
      ],
      "metadata": {
        "id": "HHMoTRJQyD4K"
      },
      "execution_count": null,
      "outputs": []
    },
    {
      "cell_type": "code",
      "source": [
        "metrics = ['accuracy']#, 'precision','recall']\n",
        "\n",
        "#Utilize Adam optimizer which uses stochastic gradient descent with learning rate to 0.001. Set loss to cross entropy loss.\n",
        "model.compile(optimizer = keras.optimizers.Adam(learning_rate = 0.001), loss = 'categorical_crossentropy', metrics = metrics)\n",
        "model.summary()"
      ],
      "metadata": {
        "colab": {
          "base_uri": "https://localhost:8080/"
        },
        "id": "Zd9KoD6nyqgQ",
        "outputId": "7afbdf61-15ef-400d-f4ff-616d58288fc3"
      },
      "execution_count": null,
      "outputs": [
        {
          "output_type": "stream",
          "name": "stdout",
          "text": [
            "Model: \"sequential_2\"\n",
            "_________________________________________________________________\n",
            " Layer (type)                Output Shape              Param #   \n",
            "=================================================================\n",
            " conv2d_6 (Conv2D)           (None, 28, 28, 16)        448       \n",
            "                                                                 \n",
            " max_pooling2d_6 (MaxPooling  (None, 27, 27, 16)       0         \n",
            " 2D)                                                             \n",
            "                                                                 \n",
            " conv2d_7 (Conv2D)           (None, 27, 27, 32)        4640      \n",
            "                                                                 \n",
            " max_pooling2d_7 (MaxPooling  (None, 13, 13, 32)       0         \n",
            " 2D)                                                             \n",
            "                                                                 \n",
            " conv2d_8 (Conv2D)           (None, 11, 11, 64)        18496     \n",
            "                                                                 \n",
            " batch_normalization_2 (Batc  (None, 11, 11, 64)       256       \n",
            " hNormalization)                                                 \n",
            "                                                                 \n",
            " max_pooling2d_8 (MaxPooling  (None, 5, 5, 64)         0         \n",
            " 2D)                                                             \n",
            "                                                                 \n",
            " dropout_2 (Dropout)         (None, 5, 5, 64)          0         \n",
            "                                                                 \n",
            " flatten_2 (Flatten)         (None, 1600)              0         \n",
            "                                                                 \n",
            " dense_4 (Dense)             (None, 128)               204928    \n",
            "                                                                 \n",
            " dense_5 (Dense)             (None, 24)                3096      \n",
            "                                                                 \n",
            "=================================================================\n",
            "Total params: 231,864\n",
            "Trainable params: 231,736\n",
            "Non-trainable params: 128\n",
            "_________________________________________________________________\n"
          ]
        }
      ]
    },
    {
      "cell_type": "code",
      "source": [
        "#Run fit generator that displays performance by epoch, we want steps in validation to be similar to training.\n",
        "#Use early stopping mechanism as validation loss seems to converge and then oscillate.\n",
        "from keras.callbacks import EarlyStopping\n",
        "\n",
        "early_stop = EarlyStopping(monitor='val_loss', mode='auto', verbose=1, patience=2)\n",
        "history = model.fit_generator(Train, class_weight = class_weights, steps_per_epoch = num_steps, epochs = num_epochs, validation_data = Validation, validation_steps = math.ceil(2759/dim_batch), callbacks=[early_stop])"
      ],
      "metadata": {
        "colab": {
          "base_uri": "https://localhost:8080/"
        },
        "id": "1h8_tZnpaCVS",
        "outputId": "84c53c7d-8ec2-49db-bb0f-589456def162"
      },
      "execution_count": null,
      "outputs": [
        {
          "output_type": "stream",
          "name": "stdout",
          "text": [
            "Epoch 1/10\n"
          ]
        },
        {
          "output_type": "stream",
          "name": "stderr",
          "text": [
            "<ipython-input-10-9139530f6220>:6: UserWarning: `Model.fit_generator` is deprecated and will be removed in a future version. Please use `Model.fit`, which supports generators.\n",
            "  history = model.fit_generator(Train, class_weight = class_weights, steps_per_epoch = num_steps, epochs = num_epochs, validation_data = Validation, validation_steps = math.ceil(2759/dim_batch), callbacks=[early_stop])\n"
          ]
        },
        {
          "output_type": "stream",
          "name": "stdout",
          "text": [
            "780/780 [==============================] - 4820s 6s/step - loss: 0.2580 - accuracy: 0.9369 - val_loss: 0.0036 - val_accuracy: 1.0000\n",
            "Epoch 2/10\n",
            "780/780 [==============================] - 97s 125ms/step - loss: 0.0479 - accuracy: 0.9874 - val_loss: 0.0874 - val_accuracy: 0.9692\n",
            "Epoch 3/10\n",
            "780/780 [==============================] - 98s 125ms/step - loss: 0.0013 - accuracy: 0.9998 - val_loss: 2.6340e-04 - val_accuracy: 1.0000\n",
            "Epoch 4/10\n",
            "780/780 [==============================] - 100s 128ms/step - loss: 1.9804e-04 - accuracy: 1.0000 - val_loss: 1.3803e-04 - val_accuracy: 1.0000\n",
            "Epoch 5/10\n",
            "780/780 [==============================] - 97s 124ms/step - loss: 1.7454e-04 - accuracy: 1.0000 - val_loss: 1.3691e-04 - val_accuracy: 1.0000\n",
            "Epoch 6/10\n",
            "780/780 [==============================] - 97s 125ms/step - loss: 6.8154e-05 - accuracy: 1.0000 - val_loss: 6.8981e-05 - val_accuracy: 1.0000\n",
            "Epoch 7/10\n",
            "780/780 [==============================] - 96s 123ms/step - loss: 3.8800e-05 - accuracy: 1.0000 - val_loss: 4.2316e-05 - val_accuracy: 1.0000\n",
            "Epoch 8/10\n",
            "780/780 [==============================] - 99s 127ms/step - loss: 0.0583 - accuracy: 0.9860 - val_loss: 0.4272 - val_accuracy: 0.8985\n",
            "Epoch 9/10\n",
            "780/780 [==============================] - 99s 127ms/step - loss: 0.0017 - accuracy: 0.9996 - val_loss: 1.7893e-04 - val_accuracy: 1.0000\n",
            "Epoch 9: early stopping\n"
          ]
        }
      ]
    },
    {
      "cell_type": "code",
      "source": [
        "#Load testing data\n",
        "Test_generator = ImageDataGenerator(rescale = 1/255)\n",
        "Test = Test_generator.flow_from_directory(filepath_test, target_size = (28, 28), batch_size = 1, class_mode ='categorical') #want to sample whole set for test\n",
        "\n",
        "#Score model from previous step against training set\n",
        "score = model.evaluate_generator(Test, steps = 7172)\n",
        "for idx, metric in enumerate(model.metrics_names):\n",
        "    print(metric, score[idx])"
      ],
      "metadata": {
        "id": "bHyM8pnSaCbb",
        "colab": {
          "base_uri": "https://localhost:8080/"
        },
        "outputId": "0620e2ce-4a16-4bf1-bef0-4c97847f349a"
      },
      "execution_count": null,
      "outputs": [
        {
          "output_type": "stream",
          "name": "stdout",
          "text": [
            "Found 7172 images belonging to 24 classes.\n"
          ]
        },
        {
          "output_type": "stream",
          "name": "stderr",
          "text": [
            "<ipython-input-11-07354ebf216c>:6: UserWarning: `Model.evaluate_generator` is deprecated and will be removed in a future version. Please use `Model.evaluate`, which supports generators.\n",
            "  score = model.evaluate_generator(Test, steps = 7172)\n"
          ]
        },
        {
          "output_type": "stream",
          "name": "stdout",
          "text": [
            "loss 0.16621941328048706\n",
            "accuracy 0.9567763805389404\n"
          ]
        }
      ]
    },
    {
      "cell_type": "markdown",
      "source": [
        "This CNN produces an accuracy of about 96%, which is much better than previous iterations.\n",
        "\n",
        "Previous iterations had two Conv2d layers with MaxPool, which produced accuracy of 85% max. This is an interesting outcome, as even classification of simple 28x28 images benefits from deeper CNN architectures."
      ],
      "metadata": {
        "id": "rq0tT6huIMMe"
      }
    },
    {
      "cell_type": "code",
      "source": [
        "from matplotlib import pyplot as plt\n",
        "plt.plot(history.history['accuracy'])\n",
        "plt.plot(history.history['val_accuracy'])\n",
        "plt.title('model accuracy')\n",
        "plt.ylabel('accuracy')\n",
        "plt.xlabel('epoch')\n",
        "plt.legend(['train', 'val'], loc='upper left')\n",
        "plt.show()\n",
        "\n",
        "plt.plot(history.history['loss'])\n",
        "plt.plot(history.history['val_loss'])\n",
        "plt.title('model loss')\n",
        "plt.ylabel('loss')\n",
        "plt.xlabel('epoch')\n",
        "plt.legend(['train', 'val'], loc='upper left')\n",
        "plt.show()"
      ],
      "metadata": {
        "colab": {
          "base_uri": "https://localhost:8080/",
          "height": 573
        },
        "id": "oXDPVCMxIimi",
        "outputId": "336069d4-eb54-47b0-ae68-fe8370f26890"
      },
      "execution_count": null,
      "outputs": [
        {
          "output_type": "display_data",
          "data": {
            "text/plain": [
              "<Figure size 432x288 with 1 Axes>"
            ],
            "image/png": "[encoded data removed]"
          },
          "metadata": {
            "needs_background": "light"
          }
        },
        {
          "output_type": "display_data",
          "data": {
            "text/plain": [
              "<Figure size 432x288 with 1 Axes>"
            ],
            "image/png": "[encoded data removed]"
          },
          "metadata": {
            "needs_background": "light"
          }
        }
      ]
    },
    {
      "cell_type": "markdown",
      "source": [
        "Interstingly, early-stopping algorithm did not stop training epochs earlier around the 4th or 5th epoch. As such, we see a late spike in accuracy and loss, but this gets resolved in training at the final epoch."
      ],
      "metadata": {
        "id": "FJzUFwarI2wn"
      }
    },
    {
      "cell_type": "code",
      "source": [],
      "metadata": {
        "id": "Hqt_UFgBJGpB"
      },
      "execution_count": null,
      "outputs": []
    }
  ]
}